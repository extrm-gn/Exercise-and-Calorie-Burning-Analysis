{
 "cells": [
  {
   "cell_type": "markdown",
   "id": "568e448a",
   "metadata": {
    "papermill": {
     "duration": 0.017581,
     "end_time": "2023-01-04T05:55:50.905111",
     "exception": false,
     "start_time": "2023-01-04T05:55:50.887530",
     "status": "completed"
    },
    "tags": []
   },
   "source": [
    "# Overview\n",
    "\n",
    "Exercise is any physical activity that enhances or maintains physical fitness and overall health. It is an important part of a healthy lifestyle and can have numerous benefits for the body and mind. Some of the potential effects of exercising include:\n",
    "\n",
    "1. Improved cardiovascular health: Regular exercise can help to improve the function of the heart and blood vessels, leading to a lower risk of heart disease, high blood pressure, and stroke.\n",
    "\n",
    "2. Weight management: Exercise can help to increase metabolism, burn calories, and build muscle, which can help with weight management.\n",
    "\n",
    "3. Stronger bones and muscles: Engaging in weight-bearing and resistance exercises can help to build and maintain strong bones and muscles.\n",
    "\n",
    "4. Improved mental health: Exercise has been shown to reduce stress, improve mood, and boost self-esteem. It can also help to improve sleep quality.\n",
    "\n",
    "5. Enhanced brain function: Some studies have suggested that exercise may improve cognitive function and protect against age-related declines in brain function.\n",
    "\n",
    "Calories are a unit of energy that is used to measure the energy content of food. When we consume more calories than we burn through exercise and daily activities, our bodies store the excess as fat. On the other hand, when we burn more calories than we consume, our bodies can use stored fat as a source of energy, leading to weight loss. Therefore, monitoring calorie intake and expenditure can be an important part of a healthy lifestyle and weight management."
   ]
  },
  {
   "cell_type": "markdown",
   "id": "8914741c",
   "metadata": {
    "papermill": {
     "duration": 0.016605,
     "end_time": "2023-01-04T05:55:50.937855",
     "exception": false,
     "start_time": "2023-01-04T05:55:50.921250",
     "status": "completed"
    },
    "tags": []
   },
   "source": [
    "**Import modules**"
   ]
  },
  {
   "cell_type": "code",
   "execution_count": 1,
   "id": "8ec45df8",
   "metadata": {
    "execution": {
     "iopub.execute_input": "2023-01-04T05:55:50.968245Z",
     "iopub.status.busy": "2023-01-04T05:55:50.967583Z",
     "iopub.status.idle": "2023-01-04T05:55:52.187217Z",
     "shell.execute_reply": "2023-01-04T05:55:52.185938Z"
    },
    "papermill": {
     "duration": 1.238683,
     "end_time": "2023-01-04T05:55:52.190663",
     "exception": false,
     "start_time": "2023-01-04T05:55:50.951980",
     "status": "completed"
    },
    "tags": []
   },
   "outputs": [],
   "source": [
    "import pandas as pd \n",
    "import sqlite3\n",
    "import numpy as np\n",
    "import matplotlib.pyplot as plt \n",
    "import seaborn as sns \n",
    "from sqlalchemy import create_engine"
   ]
  },
  {
   "cell_type": "markdown",
   "id": "d1a9d242",
   "metadata": {
    "papermill": {
     "duration": 0.013884,
     "end_time": "2023-01-04T05:55:52.218930",
     "exception": false,
     "start_time": "2023-01-04T05:55:52.205046",
     "status": "completed"
    },
    "tags": []
   },
   "source": [
    "**Loading Dataset**"
   ]
  },
  {
   "cell_type": "code",
   "execution_count": 2,
   "id": "1366771c",
   "metadata": {
    "execution": {
     "iopub.execute_input": "2023-01-04T05:55:52.249175Z",
     "iopub.status.busy": "2023-01-04T05:55:52.248707Z",
     "iopub.status.idle": "2023-01-04T05:55:52.286717Z",
     "shell.execute_reply": "2023-01-04T05:55:52.285468Z"
    },
    "papermill": {
     "duration": 0.056648,
     "end_time": "2023-01-04T05:55:52.289998",
     "exception": false,
     "start_time": "2023-01-04T05:55:52.233350",
     "status": "completed"
    },
    "tags": []
   },
   "outputs": [
    {
     "data": {
      "text/html": [
       "<div>\n",
       "<style scoped>\n",
       "    .dataframe tbody tr th:only-of-type {\n",
       "        vertical-align: middle;\n",
       "    }\n",
       "\n",
       "    .dataframe tbody tr th {\n",
       "        vertical-align: top;\n",
       "    }\n",
       "\n",
       "    .dataframe thead th {\n",
       "        text-align: right;\n",
       "    }\n",
       "</style>\n",
       "<table border=\"1\" class=\"dataframe\">\n",
       "  <thead>\n",
       "    <tr style=\"text-align: right;\">\n",
       "      <th></th>\n",
       "      <th>Activity, Exercise or Sport (1 hour)</th>\n",
       "      <th>130 lb</th>\n",
       "      <th>155 lb</th>\n",
       "      <th>180 lb</th>\n",
       "      <th>205 lb</th>\n",
       "      <th>Calories per kg</th>\n",
       "    </tr>\n",
       "  </thead>\n",
       "  <tbody>\n",
       "    <tr>\n",
       "      <th>0</th>\n",
       "      <td>Cycling, mountain bike, bmx</td>\n",
       "      <td>502</td>\n",
       "      <td>598</td>\n",
       "      <td>695</td>\n",
       "      <td>791</td>\n",
       "      <td>1.750730</td>\n",
       "    </tr>\n",
       "    <tr>\n",
       "      <th>1</th>\n",
       "      <td>Cycling, &lt;10 mph, leisure bicycling</td>\n",
       "      <td>236</td>\n",
       "      <td>281</td>\n",
       "      <td>327</td>\n",
       "      <td>372</td>\n",
       "      <td>0.823236</td>\n",
       "    </tr>\n",
       "    <tr>\n",
       "      <th>2</th>\n",
       "      <td>Cycling, &gt;20 mph, racing</td>\n",
       "      <td>944</td>\n",
       "      <td>1126</td>\n",
       "      <td>1308</td>\n",
       "      <td>1489</td>\n",
       "      <td>3.294974</td>\n",
       "    </tr>\n",
       "    <tr>\n",
       "      <th>3</th>\n",
       "      <td>Cycling, 10-11.9 mph, light</td>\n",
       "      <td>354</td>\n",
       "      <td>422</td>\n",
       "      <td>490</td>\n",
       "      <td>558</td>\n",
       "      <td>1.234853</td>\n",
       "    </tr>\n",
       "    <tr>\n",
       "      <th>4</th>\n",
       "      <td>Cycling, 12-13.9 mph, moderate</td>\n",
       "      <td>472</td>\n",
       "      <td>563</td>\n",
       "      <td>654</td>\n",
       "      <td>745</td>\n",
       "      <td>1.647825</td>\n",
       "    </tr>\n",
       "  </tbody>\n",
       "</table>\n",
       "</div>"
      ],
      "text/plain": [
       "  Activity, Exercise or Sport (1 hour)  130 lb  155 lb  180 lb  205 lb  \\\n",
       "0          Cycling, mountain bike, bmx     502     598     695     791   \n",
       "1  Cycling, <10 mph, leisure bicycling     236     281     327     372   \n",
       "2             Cycling, >20 mph, racing     944    1126    1308    1489   \n",
       "3          Cycling, 10-11.9 mph, light     354     422     490     558   \n",
       "4       Cycling, 12-13.9 mph, moderate     472     563     654     745   \n",
       "\n",
       "   Calories per kg  \n",
       "0         1.750730  \n",
       "1         0.823236  \n",
       "2         3.294974  \n",
       "3         1.234853  \n",
       "4         1.647825  "
      ]
     },
     "execution_count": 2,
     "metadata": {},
     "output_type": "execute_result"
    }
   ],
   "source": [
    "df = pd.read_csv(\"/kaggle/input/calories-burned-during-exercise-and-activities/exercise_dataset.csv\")\n",
    "df.head()"
   ]
  },
  {
   "cell_type": "code",
   "execution_count": 3,
   "id": "d5e662eb",
   "metadata": {
    "execution": {
     "iopub.execute_input": "2023-01-04T05:55:52.320275Z",
     "iopub.status.busy": "2023-01-04T05:55:52.319735Z",
     "iopub.status.idle": "2023-01-04T05:55:52.327051Z",
     "shell.execute_reply": "2023-01-04T05:55:52.326145Z"
    },
    "papermill": {
     "duration": 0.025264,
     "end_time": "2023-01-04T05:55:52.329532",
     "exception": false,
     "start_time": "2023-01-04T05:55:52.304268",
     "status": "completed"
    },
    "tags": []
   },
   "outputs": [
    {
     "data": {
      "text/plain": [
       "Index(['Activity, Exercise or Sport (1 hour)', '130 lb', '155 lb', '180 lb',\n",
       "       '205 lb', 'Calories per kg'],\n",
       "      dtype='object')"
      ]
     },
     "execution_count": 3,
     "metadata": {},
     "output_type": "execute_result"
    }
   ],
   "source": [
    "df.columns"
   ]
  },
  {
   "cell_type": "markdown",
   "id": "8b600548",
   "metadata": {
    "papermill": {
     "duration": 0.013711,
     "end_time": "2023-01-04T05:55:52.357535",
     "exception": false,
     "start_time": "2023-01-04T05:55:52.343824",
     "status": "completed"
    },
    "tags": []
   },
   "source": [
    "The column names of the table are very long and do not follow the standard naming conventions. We should change the column names to follow the proper conventions at a later time."
   ]
  },
  {
   "cell_type": "markdown",
   "id": "461fb3eb",
   "metadata": {
    "papermill": {
     "duration": 0.013799,
     "end_time": "2023-01-04T05:55:52.385457",
     "exception": false,
     "start_time": "2023-01-04T05:55:52.371658",
     "status": "completed"
    },
    "tags": []
   },
   "source": [
    "**Check Null Values**"
   ]
  },
  {
   "cell_type": "code",
   "execution_count": 4,
   "id": "65597b30",
   "metadata": {
    "execution": {
     "iopub.execute_input": "2023-01-04T05:55:52.417095Z",
     "iopub.status.busy": "2023-01-04T05:55:52.415757Z",
     "iopub.status.idle": "2023-01-04T05:55:52.426483Z",
     "shell.execute_reply": "2023-01-04T05:55:52.425282Z"
    },
    "papermill": {
     "duration": 0.028816,
     "end_time": "2023-01-04T05:55:52.429061",
     "exception": false,
     "start_time": "2023-01-04T05:55:52.400245",
     "status": "completed"
    },
    "tags": []
   },
   "outputs": [
    {
     "data": {
      "text/plain": [
       "Activity, Exercise or Sport (1 hour)    0\n",
       "130 lb                                  0\n",
       "155 lb                                  0\n",
       "180 lb                                  0\n",
       "205 lb                                  0\n",
       "Calories per kg                         0\n",
       "dtype: int64"
      ]
     },
     "execution_count": 4,
     "metadata": {},
     "output_type": "execute_result"
    }
   ],
   "source": [
    "df.isnull().sum()"
   ]
  },
  {
   "cell_type": "markdown",
   "id": "9b7a7d7c",
   "metadata": {
    "papermill": {
     "duration": 0.016174,
     "end_time": "2023-01-04T05:55:52.459564",
     "exception": false,
     "start_time": "2023-01-04T05:55:52.443390",
     "status": "completed"
    },
    "tags": []
   },
   "source": [
    "Good thing to know that there are no null values in this dataset."
   ]
  },
  {
   "cell_type": "markdown",
   "id": "34573bf6",
   "metadata": {
    "papermill": {
     "duration": 0.014523,
     "end_time": "2023-01-04T05:55:52.491128",
     "exception": false,
     "start_time": "2023-01-04T05:55:52.476605",
     "status": "completed"
    },
    "tags": []
   },
   "source": [
    "**Change Column Name**\n",
    "\n",
    "The column names in the dataset are long and some of them begin with a number, which means they cannot be used as SQL commands. In order to use them in SQL, we need to change the column names to follow the standard naming conventions."
   ]
  },
  {
   "cell_type": "code",
   "execution_count": 5,
   "id": "56a4c43d",
   "metadata": {
    "execution": {
     "iopub.execute_input": "2023-01-04T05:55:52.527550Z",
     "iopub.status.busy": "2023-01-04T05:55:52.526503Z",
     "iopub.status.idle": "2023-01-04T05:55:52.536676Z",
     "shell.execute_reply": "2023-01-04T05:55:52.535460Z"
    },
    "papermill": {
     "duration": 0.031431,
     "end_time": "2023-01-04T05:55:52.539713",
     "exception": false,
     "start_time": "2023-01-04T05:55:52.508282",
     "status": "completed"
    },
    "tags": []
   },
   "outputs": [],
   "source": [
    "#change column name\n",
    "df.rename(columns = {'Activity, Exercise or Sport (1 hour)': 'Exercise', 'Calories per kg':'Calorieskg'\n",
    "                    ,'130 lb':'lb130','155 lb':'lb155','180 lb':'lb180','205 lb':'lb205'}, inplace = True)"
   ]
  },
  {
   "cell_type": "code",
   "execution_count": 6,
   "id": "72db8c49",
   "metadata": {
    "execution": {
     "iopub.execute_input": "2023-01-04T05:55:52.573778Z",
     "iopub.status.busy": "2023-01-04T05:55:52.572986Z",
     "iopub.status.idle": "2023-01-04T05:55:52.579980Z",
     "shell.execute_reply": "2023-01-04T05:55:52.578823Z"
    },
    "papermill": {
     "duration": 0.026754,
     "end_time": "2023-01-04T05:55:52.582373",
     "exception": false,
     "start_time": "2023-01-04T05:55:52.555619",
     "status": "completed"
    },
    "tags": []
   },
   "outputs": [
    {
     "data": {
      "text/plain": [
       "Index(['Exercise', 'lb130', 'lb155', 'lb180', 'lb205', 'Calorieskg'], dtype='object')"
      ]
     },
     "execution_count": 6,
     "metadata": {},
     "output_type": "execute_result"
    }
   ],
   "source": [
    "df.columns"
   ]
  },
  {
   "cell_type": "code",
   "execution_count": 7,
   "id": "bd981778",
   "metadata": {
    "execution": {
     "iopub.execute_input": "2023-01-04T05:55:52.614428Z",
     "iopub.status.busy": "2023-01-04T05:55:52.613487Z",
     "iopub.status.idle": "2023-01-04T05:55:52.652075Z",
     "shell.execute_reply": "2023-01-04T05:55:52.650734Z"
    },
    "papermill": {
     "duration": 0.057804,
     "end_time": "2023-01-04T05:55:52.655124",
     "exception": false,
     "start_time": "2023-01-04T05:55:52.597320",
     "status": "completed"
    },
    "tags": []
   },
   "outputs": [
    {
     "data": {
      "text/html": [
       "<div>\n",
       "<style scoped>\n",
       "    .dataframe tbody tr th:only-of-type {\n",
       "        vertical-align: middle;\n",
       "    }\n",
       "\n",
       "    .dataframe tbody tr th {\n",
       "        vertical-align: top;\n",
       "    }\n",
       "\n",
       "    .dataframe thead th {\n",
       "        text-align: right;\n",
       "    }\n",
       "</style>\n",
       "<table border=\"1\" class=\"dataframe\">\n",
       "  <thead>\n",
       "    <tr style=\"text-align: right;\">\n",
       "      <th></th>\n",
       "      <th>lb130</th>\n",
       "      <th>lb155</th>\n",
       "      <th>lb180</th>\n",
       "      <th>lb205</th>\n",
       "      <th>Calorieskg</th>\n",
       "    </tr>\n",
       "  </thead>\n",
       "  <tbody>\n",
       "    <tr>\n",
       "      <th>count</th>\n",
       "      <td>248.000000</td>\n",
       "      <td>248.000000</td>\n",
       "      <td>248.000000</td>\n",
       "      <td>248.000000</td>\n",
       "      <td>248.000000</td>\n",
       "    </tr>\n",
       "    <tr>\n",
       "      <th>mean</th>\n",
       "      <td>389.754032</td>\n",
       "      <td>464.689516</td>\n",
       "      <td>539.685484</td>\n",
       "      <td>614.620968</td>\n",
       "      <td>1.359930</td>\n",
       "    </tr>\n",
       "    <tr>\n",
       "      <th>std</th>\n",
       "      <td>194.434028</td>\n",
       "      <td>232.019135</td>\n",
       "      <td>269.430029</td>\n",
       "      <td>306.847470</td>\n",
       "      <td>0.678851</td>\n",
       "    </tr>\n",
       "    <tr>\n",
       "      <th>min</th>\n",
       "      <td>89.000000</td>\n",
       "      <td>106.000000</td>\n",
       "      <td>123.000000</td>\n",
       "      <td>140.000000</td>\n",
       "      <td>0.310067</td>\n",
       "    </tr>\n",
       "    <tr>\n",
       "      <th>25%</th>\n",
       "      <td>236.000000</td>\n",
       "      <td>281.000000</td>\n",
       "      <td>327.000000</td>\n",
       "      <td>372.000000</td>\n",
       "      <td>0.823236</td>\n",
       "    </tr>\n",
       "    <tr>\n",
       "      <th>50%</th>\n",
       "      <td>354.000000</td>\n",
       "      <td>422.000000</td>\n",
       "      <td>490.000000</td>\n",
       "      <td>558.000000</td>\n",
       "      <td>1.234853</td>\n",
       "    </tr>\n",
       "    <tr>\n",
       "      <th>75%</th>\n",
       "      <td>472.000000</td>\n",
       "      <td>563.000000</td>\n",
       "      <td>654.000000</td>\n",
       "      <td>745.000000</td>\n",
       "      <td>1.647825</td>\n",
       "    </tr>\n",
       "    <tr>\n",
       "      <th>max</th>\n",
       "      <td>1062.000000</td>\n",
       "      <td>1267.000000</td>\n",
       "      <td>1471.000000</td>\n",
       "      <td>1675.000000</td>\n",
       "      <td>3.706591</td>\n",
       "    </tr>\n",
       "  </tbody>\n",
       "</table>\n",
       "</div>"
      ],
      "text/plain": [
       "             lb130        lb155        lb180        lb205  Calorieskg\n",
       "count   248.000000   248.000000   248.000000   248.000000  248.000000\n",
       "mean    389.754032   464.689516   539.685484   614.620968    1.359930\n",
       "std     194.434028   232.019135   269.430029   306.847470    0.678851\n",
       "min      89.000000   106.000000   123.000000   140.000000    0.310067\n",
       "25%     236.000000   281.000000   327.000000   372.000000    0.823236\n",
       "50%     354.000000   422.000000   490.000000   558.000000    1.234853\n",
       "75%     472.000000   563.000000   654.000000   745.000000    1.647825\n",
       "max    1062.000000  1267.000000  1471.000000  1675.000000    3.706591"
      ]
     },
     "execution_count": 7,
     "metadata": {},
     "output_type": "execute_result"
    }
   ],
   "source": [
    "df.describe()"
   ]
  },
  {
   "cell_type": "code",
   "execution_count": 8,
   "id": "de09770c",
   "metadata": {
    "execution": {
     "iopub.execute_input": "2023-01-04T05:55:52.688577Z",
     "iopub.status.busy": "2023-01-04T05:55:52.687776Z",
     "iopub.status.idle": "2023-01-04T05:55:53.463025Z",
     "shell.execute_reply": "2023-01-04T05:55:53.461783Z"
    },
    "papermill": {
     "duration": 0.794586,
     "end_time": "2023-01-04T05:55:53.465663",
     "exception": false,
     "start_time": "2023-01-04T05:55:52.671077",
     "status": "completed"
    },
    "tags": []
   },
   "outputs": [
    {
     "data": {
      "image/png": "[encoded data removed]",
      "text/plain": [
       "<Figure size 1440x1080 with 6 Axes>"
      ]
     },
     "metadata": {
      "needs_background": "light"
     },
     "output_type": "display_data"
    }
   ],
   "source": [
    "numerical = ['lb130', 'lb155', 'lb180', 'lb205', 'Calorieskg']\n",
    "fig,ax1 = plt.subplots(2,3,figsize = (20,15))\n",
    "for i in range(0,len(numerical)):\n",
    "    sns.boxplot(x=df[numerical[i]],ax=ax1[i//3, i%3])"
   ]
  },
  {
   "cell_type": "markdown",
   "id": "e6eff880",
   "metadata": {
    "papermill": {
     "duration": 0.014716,
     "end_time": "2023-01-04T05:55:53.495835",
     "exception": false,
     "start_time": "2023-01-04T05:55:53.481119",
     "status": "completed"
    },
    "tags": []
   },
   "source": [
    "There are some outliers in all of the columns, and the number of outliers is the same in each column. This suggests that the data is linear and that one element, specifically the weight/pounds, is responsible for scaling the numerical values in the dataframe."
   ]
  },
  {
   "cell_type": "markdown",
   "id": "529e76f9",
   "metadata": {
    "papermill": {
     "duration": 0.014476,
     "end_time": "2023-01-04T05:55:53.525326",
     "exception": false,
     "start_time": "2023-01-04T05:55:53.510850",
     "status": "completed"
    },
    "tags": []
   },
   "source": [
    "# Data Manipulation\n",
    "\n",
    "**Unique Exercises Data**\n",
    "\n",
    "It is quite evident that the Exercise column contains a significant amount of data or words. Upon closer inspection, we can see that the Exercises column is separated by commas. The first word in each row typically refers to the specific exercise being performed, while the subsequent words provide additional details such as the intensity of the exercise and the type of activity. It seems that this organization allows for a clear and concise way to present the various exercises and related information in the column."
   ]
  },
  {
   "cell_type": "markdown",
   "id": "82a1612a",
   "metadata": {
    "papermill": {
     "duration": 0.014495,
     "end_time": "2023-01-04T05:55:53.554778",
     "exception": false,
     "start_time": "2023-01-04T05:55:53.540283",
     "status": "completed"
    },
    "tags": []
   },
   "source": [
    "The first step that we have to do is to split the Exercise column with comma as the separator, and figure out the unique exercise listed."
   ]
  },
  {
   "cell_type": "code",
   "execution_count": 9,
   "id": "99d076a6",
   "metadata": {
    "execution": {
     "iopub.execute_input": "2023-01-04T05:55:53.587002Z",
     "iopub.status.busy": "2023-01-04T05:55:53.586532Z",
     "iopub.status.idle": "2023-01-04T05:55:53.597890Z",
     "shell.execute_reply": "2023-01-04T05:55:53.596577Z"
    },
    "papermill": {
     "duration": 0.030725,
     "end_time": "2023-01-04T05:55:53.600646",
     "exception": false,
     "start_time": "2023-01-04T05:55:53.569921",
     "status": "completed"
    },
    "tags": []
   },
   "outputs": [
    {
     "name": "stdout",
     "output_type": "stream",
     "text": [
      "There are 167 unique exercises in this data set\n"
     ]
    }
   ],
   "source": [
    "sep = df['Exercise'].str.split(',')\n",
    "unique_exercises = []\n",
    "for i in range(0,len(sep)):\n",
    "    if sep[i][0] not in unique_exercises:\n",
    "        unique_exercises.append(sep[i][0])\n",
    "print(f\"There are {len(unique_exercises)} unique exercises in this data set\")"
   ]
  },
  {
   "cell_type": "markdown",
   "id": "6faf6c37",
   "metadata": {
    "papermill": {
     "duration": 0.018596,
     "end_time": "2023-01-04T05:55:53.634692",
     "exception": false,
     "start_time": "2023-01-04T05:55:53.616096",
     "status": "completed"
    },
    "tags": []
   },
   "source": [
    "The next step in our task is to calculate the mean number of calories burned for each unique exercise listed in the Exercise column. In addition to this, we also need to determine the frequency at which each unique exercise appears in the Exercise column. This will allow us to get a better understanding of the most common exercises being performed and how many calories they tend to burn on average."
   ]
  },
  {
   "cell_type": "code",
   "execution_count": 10,
   "id": "9105338f",
   "metadata": {
    "execution": {
     "iopub.execute_input": "2023-01-04T05:55:53.676894Z",
     "iopub.status.busy": "2023-01-04T05:55:53.676322Z",
     "iopub.status.idle": "2023-01-04T05:55:53.701002Z",
     "shell.execute_reply": "2023-01-04T05:55:53.699860Z"
    },
    "papermill": {
     "duration": 0.051137,
     "end_time": "2023-01-04T05:55:53.703977",
     "exception": false,
     "start_time": "2023-01-04T05:55:53.652840",
     "status": "completed"
    },
    "tags": []
   },
   "outputs": [],
   "source": [
    "calories_burned = {}\n",
    "for exercise in unique_exercises:\n",
    "    for key,i in enumerate(df['Exercise']):\n",
    "        if exercise not in calories_burned:\n",
    "            calories_burned[exercise] = 0\n",
    "        if exercise in i:\n",
    "            calories_burned[exercise] += df['Calorieskg'][key]"
   ]
  },
  {
   "cell_type": "code",
   "execution_count": 11,
   "id": "e750ee74",
   "metadata": {
    "execution": {
     "iopub.execute_input": "2023-01-04T05:55:53.744348Z",
     "iopub.status.busy": "2023-01-04T05:55:53.743105Z",
     "iopub.status.idle": "2023-01-04T05:55:53.764544Z",
     "shell.execute_reply": "2023-01-04T05:55:53.763162Z"
    },
    "papermill": {
     "duration": 0.041117,
     "end_time": "2023-01-04T05:55:53.767702",
     "exception": false,
     "start_time": "2023-01-04T05:55:53.726585",
     "status": "completed"
    },
    "tags": []
   },
   "outputs": [],
   "source": [
    "#figure out how to get mean of calorieskg per exercise\n",
    "exercise_num_occurrence = {}\n",
    "for exercise in unique_exercises:\n",
    "    for key,i in enumerate(df['Exercise']):\n",
    "        if exercise not in exercise_num_occurrence:\n",
    "            exercise_num_occurrence[exercise] = 0\n",
    "        if exercise in i:\n",
    "            exercise_num_occurrence[exercise] += 1\n",
    "\n",
    "# get mean value of of calories burned of each unique exercises\n",
    "for i in unique_exercises:\n",
    "    calories_burned[i] = calories_burned[i]/exercise_num_occurrence[i]"
   ]
  },
  {
   "cell_type": "markdown",
   "id": "52462848",
   "metadata": {
    "papermill": {
     "duration": 0.014557,
     "end_time": "2023-01-04T05:55:53.797114",
     "exception": false,
     "start_time": "2023-01-04T05:55:53.782557",
     "status": "completed"
    },
    "tags": []
   },
   "source": [
    "Now that we have our python dictionaries organized, the next step is to convert them into pandas dataframes. Once we have done this, we can merge the two dataframes together using pandas' merge function. This will allow us to combine the information from the calories_burned and exercise_num_occurrence dictionaries into a single dataframe for further analysis."
   ]
  },
  {
   "cell_type": "code",
   "execution_count": 12,
   "id": "36baf2fc",
   "metadata": {
    "execution": {
     "iopub.execute_input": "2023-01-04T05:55:53.829297Z",
     "iopub.status.busy": "2023-01-04T05:55:53.828821Z",
     "iopub.status.idle": "2023-01-04T05:55:53.847066Z",
     "shell.execute_reply": "2023-01-04T05:55:53.845376Z"
    },
    "papermill": {
     "duration": 0.037567,
     "end_time": "2023-01-04T05:55:53.849831",
     "exception": false,
     "start_time": "2023-01-04T05:55:53.812264",
     "status": "completed"
    },
    "tags": []
   },
   "outputs": [],
   "source": [
    "occurrence_df = pd.DataFrame(exercise_num_occurrence.items(), columns = ['Unique_exercise','Num_occurrence'])\n",
    "unique_df = pd.DataFrame(calories_burned.items(), columns = ['Unique_exercise','Mean_calories_per_kg'])\n",
    "\n",
    "#combine dataset\n",
    "df1 = unique_df.merge(occurrence_df, on = \"Unique_exercise\")"
   ]
  },
  {
   "cell_type": "markdown",
   "id": "686ca880",
   "metadata": {
    "papermill": {
     "duration": 0.014592,
     "end_time": "2023-01-04T05:55:53.879606",
     "exception": false,
     "start_time": "2023-01-04T05:55:53.865014",
     "status": "completed"
    },
    "tags": []
   },
   "source": [
    "The next step in our process is to use SQLAlchemy to convert the data from its current csv format into a sqlite database."
   ]
  },
  {
   "cell_type": "code",
   "execution_count": 13,
   "id": "6ba565c2",
   "metadata": {
    "execution": {
     "iopub.execute_input": "2023-01-04T05:55:53.912673Z",
     "iopub.status.busy": "2023-01-04T05:55:53.912185Z",
     "iopub.status.idle": "2023-01-04T05:55:53.945818Z",
     "shell.execute_reply": "2023-01-04T05:55:53.944728Z"
    },
    "papermill": {
     "duration": 0.054426,
     "end_time": "2023-01-04T05:55:53.949123",
     "exception": false,
     "start_time": "2023-01-04T05:55:53.894697",
     "status": "completed"
    },
    "tags": []
   },
   "outputs": [],
   "source": [
    "# convert data to sqlite\n",
    "engine_df1 = create_engine('sqlite://', echo = False)\n",
    "df1.to_sql('Exercise_Data', con = engine_df1)"
   ]
  },
  {
   "cell_type": "markdown",
   "id": "2bf03688",
   "metadata": {
    "papermill": {
     "duration": 0.014599,
     "end_time": "2023-01-04T05:55:53.979558",
     "exception": false,
     "start_time": "2023-01-04T05:55:53.964959",
     "status": "completed"
    },
    "tags": []
   },
   "source": [
    "**Exercise Intensity and Types Data**"
   ]
  },
  {
   "cell_type": "markdown",
   "id": "eade7597",
   "metadata": {
    "papermill": {
     "duration": 0.014689,
     "end_time": "2023-01-04T05:55:54.009294",
     "exception": false,
     "start_time": "2023-01-04T05:55:53.994605",
     "status": "completed"
    },
    "tags": []
   },
   "source": [
    "In the Exercise column, there are various words that provide additional information about the type of exercise being performed. Our next step is to create a list of these keywords that appear in the Exercise column. Once we have compiled this list of keywords, we can use it to more accurately categorize and analyze the exercises listed in the column. This will provide us with a clearer understanding of the types of activities being performed and how they may be impacting the overall health and fitness of the individuals in the dataset."
   ]
  },
  {
   "cell_type": "code",
   "execution_count": 14,
   "id": "d4b1ddd8",
   "metadata": {
    "execution": {
     "iopub.execute_input": "2023-01-04T05:55:54.043230Z",
     "iopub.status.busy": "2023-01-04T05:55:54.042792Z",
     "iopub.status.idle": "2023-01-04T05:55:54.057563Z",
     "shell.execute_reply": "2023-01-04T05:55:54.056162Z"
    },
    "papermill": {
     "duration": 0.03484,
     "end_time": "2023-01-04T05:55:54.060800",
     "exception": false,
     "start_time": "2023-01-04T05:55:54.025960",
     "status": "completed"
    },
    "tags": []
   },
   "outputs": [
    {
     "name": "stdout",
     "output_type": "stream",
     "text": [
      "There are 142 unique keywords in this data set, excluding the exercise name\n"
     ]
    }
   ],
   "source": [
    "unique_keywords = []\n",
    "for i in range(0,len(sep)):\n",
    "    if (sep[i][-1] in unique_exercises):\n",
    "        pass\n",
    "    elif sep[i][-1] not in unique_keywords:\n",
    "        unique_keywords.append(sep[i][-1])\n",
    "    \n",
    "    if (len(sep[i]) > 2) and (sep[i][-2] in unique_exercises):\n",
    "        pass\n",
    "    elif (len(sep[i]) > 2) and sep[i][-2] not in unique_keywords:\n",
    "        unique_keywords.append(sep[i][-2])\n",
    "print(f\"There are {len(unique_keywords)} unique keywords in this data set, excluding the exercise name\")"
   ]
  },
  {
   "cell_type": "markdown",
   "id": "8bc9a59f",
   "metadata": {
    "papermill": {
     "duration": 0.015668,
     "end_time": "2023-01-04T05:55:54.092130",
     "exception": false,
     "start_time": "2023-01-04T05:55:54.076462",
     "status": "completed"
    },
    "tags": []
   },
   "source": [
    "For the next step, we will use Python's dictionary to find the unique keywords in the Exercise column and count how many times each keyword appears. This process is similar to what we did with the unique data in the Exercise column earlier."
   ]
  },
  {
   "cell_type": "code",
   "execution_count": 15,
   "id": "3d0a104a",
   "metadata": {
    "execution": {
     "iopub.execute_input": "2023-01-04T05:55:54.124601Z",
     "iopub.status.busy": "2023-01-04T05:55:54.124093Z",
     "iopub.status.idle": "2023-01-04T05:55:54.144263Z",
     "shell.execute_reply": "2023-01-04T05:55:54.143389Z"
    },
    "papermill": {
     "duration": 0.038863,
     "end_time": "2023-01-04T05:55:54.146427",
     "exception": false,
     "start_time": "2023-01-04T05:55:54.107564",
     "status": "completed"
    },
    "tags": []
   },
   "outputs": [
    {
     "name": "stdout",
     "output_type": "stream",
     "text": [
      "repeated keywords: 0. \n",
      "If not 0: there is an error\n"
     ]
    }
   ],
   "source": [
    "#count the occurrence\n",
    "frequency = {}\n",
    "for keyword in unique_keywords:\n",
    "    for key,i in enumerate(df['Exercise']):\n",
    "        if keyword not in frequency:\n",
    "                frequency[keyword] = 1\n",
    "        elif keyword in i:\n",
    "                frequency[keyword] += 1\n",
    "check_error = [ans for ans in unique_exercises if ans in unique_keywords]\n",
    "print(f\"repeated keywords: {len(check_error)}. \\nIf not 0: there is an error\")"
   ]
  },
  {
   "cell_type": "code",
   "execution_count": 16,
   "id": "bfd72b75",
   "metadata": {
    "execution": {
     "iopub.execute_input": "2023-01-04T05:55:54.181027Z",
     "iopub.status.busy": "2023-01-04T05:55:54.180192Z",
     "iopub.status.idle": "2023-01-04T05:55:54.200475Z",
     "shell.execute_reply": "2023-01-04T05:55:54.199435Z"
    },
    "papermill": {
     "duration": 0.040442,
     "end_time": "2023-01-04T05:55:54.203266",
     "exception": false,
     "start_time": "2023-01-04T05:55:54.162824",
     "status": "completed"
    },
    "tags": []
   },
   "outputs": [],
   "source": [
    "#figure out how to get mean of calorieskg per keyword\n",
    "keyword_calburned = {}\n",
    "for keyword in unique_keywords:\n",
    "    for key,i in enumerate(df['Exercise']):\n",
    "        if keyword not in keyword_calburned:\n",
    "            keyword_calburned[keyword] = 0\n",
    "        if keyword in i:\n",
    "            keyword_calburned[keyword] += df[\"Calorieskg\"][key]\n",
    "# get mean value of of calories burned of each unique keywords\n",
    "for i in unique_keywords:\n",
    "    keyword_calburned[i] = keyword_calburned[i]/frequency[i]"
   ]
  },
  {
   "cell_type": "markdown",
   "id": "2cb684c0",
   "metadata": {
    "papermill": {
     "duration": 0.01476,
     "end_time": "2023-01-04T05:55:54.233212",
     "exception": false,
     "start_time": "2023-01-04T05:55:54.218452",
     "status": "completed"
    },
    "tags": []
   },
   "source": [
    "In the final step for the exercise type and intensity section, we will create two dataframes: one for the frequency dictionary and one for the keyword_calburned dictionary. Then, we will merge these two dataframes into a single dataframe."
   ]
  },
  {
   "cell_type": "code",
   "execution_count": 17,
   "id": "43e58f0d",
   "metadata": {
    "execution": {
     "iopub.execute_input": "2023-01-04T05:55:54.265984Z",
     "iopub.status.busy": "2023-01-04T05:55:54.265106Z",
     "iopub.status.idle": "2023-01-04T05:55:54.275005Z",
     "shell.execute_reply": "2023-01-04T05:55:54.274057Z"
    },
    "papermill": {
     "duration": 0.029411,
     "end_time": "2023-01-04T05:55:54.277784",
     "exception": false,
     "start_time": "2023-01-04T05:55:54.248373",
     "status": "completed"
    },
    "tags": []
   },
   "outputs": [],
   "source": [
    "frequency_df = pd.DataFrame(frequency.items(), columns = ['Keyword','Frequency'])\n",
    "keyword_occ_df = pd.DataFrame(keyword_calburned.items(), columns = ['Keyword','Mean_calburned'])\n",
    "\n",
    "df2 = frequency_df.merge(keyword_occ_df, on = \"Keyword\")"
   ]
  },
  {
   "cell_type": "code",
   "execution_count": 18,
   "id": "d0f07e66",
   "metadata": {
    "execution": {
     "iopub.execute_input": "2023-01-04T05:55:54.311398Z",
     "iopub.status.busy": "2023-01-04T05:55:54.310585Z",
     "iopub.status.idle": "2023-01-04T05:55:54.323248Z",
     "shell.execute_reply": "2023-01-04T05:55:54.322251Z"
    },
    "papermill": {
     "duration": 0.03226,
     "end_time": "2023-01-04T05:55:54.325658",
     "exception": false,
     "start_time": "2023-01-04T05:55:54.293398",
     "status": "completed"
    },
    "tags": []
   },
   "outputs": [
    {
     "data": {
      "text/html": [
       "<div>\n",
       "<style scoped>\n",
       "    .dataframe tbody tr th:only-of-type {\n",
       "        vertical-align: middle;\n",
       "    }\n",
       "\n",
       "    .dataframe tbody tr th {\n",
       "        vertical-align: top;\n",
       "    }\n",
       "\n",
       "    .dataframe thead th {\n",
       "        text-align: right;\n",
       "    }\n",
       "</style>\n",
       "<table border=\"1\" class=\"dataframe\">\n",
       "  <thead>\n",
       "    <tr style=\"text-align: right;\">\n",
       "      <th></th>\n",
       "      <th>Keyword</th>\n",
       "      <th>Frequency</th>\n",
       "      <th>Mean_calburned</th>\n",
       "    </tr>\n",
       "  </thead>\n",
       "  <tbody>\n",
       "    <tr>\n",
       "      <th>8</th>\n",
       "      <td>moderate</td>\n",
       "      <td>14</td>\n",
       "      <td>1.335533</td>\n",
       "    </tr>\n",
       "    <tr>\n",
       "      <th>10</th>\n",
       "      <td>vigorous</td>\n",
       "      <td>12</td>\n",
       "      <td>1.776174</td>\n",
       "    </tr>\n",
       "    <tr>\n",
       "      <th>6</th>\n",
       "      <td>light</td>\n",
       "      <td>10</td>\n",
       "      <td>0.726830</td>\n",
       "    </tr>\n",
       "    <tr>\n",
       "      <th>23</th>\n",
       "      <td>general</td>\n",
       "      <td>9</td>\n",
       "      <td>0.949610</td>\n",
       "    </tr>\n",
       "    <tr>\n",
       "      <th>43</th>\n",
       "      <td>up</td>\n",
       "      <td>9</td>\n",
       "      <td>1.635940</td>\n",
       "    </tr>\n",
       "    <tr>\n",
       "      <th>47</th>\n",
       "      <td>competitive</td>\n",
       "      <td>8</td>\n",
       "      <td>1.802013</td>\n",
       "    </tr>\n",
       "    <tr>\n",
       "      <th>27</th>\n",
       "      <td>slow</td>\n",
       "      <td>7</td>\n",
       "      <td>0.867821</td>\n",
       "    </tr>\n",
       "    <tr>\n",
       "      <th>28</th>\n",
       "      <td>fast</td>\n",
       "      <td>7</td>\n",
       "      <td>1.926944</td>\n",
       "    </tr>\n",
       "    <tr>\n",
       "      <th>134</th>\n",
       "      <td>walk</td>\n",
       "      <td>7</td>\n",
       "      <td>0.759210</td>\n",
       "    </tr>\n",
       "    <tr>\n",
       "      <th>74</th>\n",
       "      <td>walking</td>\n",
       "      <td>6</td>\n",
       "      <td>0.696975</td>\n",
       "    </tr>\n",
       "  </tbody>\n",
       "</table>\n",
       "</div>"
      ],
      "text/plain": [
       "          Keyword  Frequency  Mean_calburned\n",
       "8        moderate         14        1.335533\n",
       "10       vigorous         12        1.776174\n",
       "6           light         10        0.726830\n",
       "23        general          9        0.949610\n",
       "43             up          9        1.635940\n",
       "47    competitive          8        1.802013\n",
       "27           slow          7        0.867821\n",
       "28           fast          7        1.926944\n",
       "134          walk          7        0.759210\n",
       "74        walking          6        0.696975"
      ]
     },
     "execution_count": 18,
     "metadata": {},
     "output_type": "execute_result"
    }
   ],
   "source": [
    "#up keyword\n",
    "df2.sort_values(by = 'Frequency', ascending = False).head(10)"
   ]
  },
  {
   "cell_type": "markdown",
   "id": "83a52b82",
   "metadata": {
    "papermill": {
     "duration": 0.01507,
     "end_time": "2023-01-04T05:55:54.356094",
     "exception": false,
     "start_time": "2023-01-04T05:55:54.341024",
     "status": "completed"
    },
    "tags": []
   },
   "source": [
    "After sorting the frequency data in descending order and examining the top 10 frequencies, we can observe two things: the keyword \"up\" is very ambiguous and needs further clarification, and we need to determine if there is any difference between \"walking\" and \"walk.\""
   ]
  },
  {
   "cell_type": "code",
   "execution_count": 19,
   "id": "9734560b",
   "metadata": {
    "execution": {
     "iopub.execute_input": "2023-01-04T05:55:54.389131Z",
     "iopub.status.busy": "2023-01-04T05:55:54.388342Z",
     "iopub.status.idle": "2023-01-04T05:55:54.394399Z",
     "shell.execute_reply": "2023-01-04T05:55:54.393457Z"
    },
    "papermill": {
     "duration": 0.025837,
     "end_time": "2023-01-04T05:55:54.397309",
     "exception": false,
     "start_time": "2023-01-04T05:55:54.371472",
     "status": "completed"
    },
    "tags": []
   },
   "outputs": [
    {
     "name": "stdout",
     "output_type": "stream",
     "text": [
      "Calisthenics, vigorous, pushups, situps…\n",
      "Running, stairs, up\n",
      "Carrying infant, upstairs\n",
      "Carrying 16 to 24 lbs, upstairs\n",
      "Carrying 25 to 49 lbs, upstairs\n",
      "Climbing hills, carrying up to 9 lbs\n",
      "Walking 3.5 mph, uphill\n",
      "Cross country skiing, uphill\n",
      "Carrying moderate loads upstairs\n"
     ]
    }
   ],
   "source": [
    "# find the meaning of the keyword up\n",
    "for i in df['Exercise']:\n",
    "    if 'up' in i:\n",
    "        print(i)"
   ]
  },
  {
   "cell_type": "markdown",
   "id": "4f77a39d",
   "metadata": {
    "papermill": {
     "duration": 0.01567,
     "end_time": "2023-01-04T05:55:54.429910",
     "exception": false,
     "start_time": "2023-01-04T05:55:54.414240",
     "status": "completed"
    },
    "tags": []
   },
   "source": [
    "From the code above, we can see that the keyword \"up\" refers to an inclination, such as climbing stairs or walking uphill. Next up is to combine the frequencies between the keyword \"walk\" and \"walking as there are no difference between them."
   ]
  },
  {
   "cell_type": "code",
   "execution_count": 20,
   "id": "49aef3be",
   "metadata": {
    "execution": {
     "iopub.execute_input": "2023-01-04T05:55:54.464468Z",
     "iopub.status.busy": "2023-01-04T05:55:54.463384Z",
     "iopub.status.idle": "2023-01-04T05:55:54.469714Z",
     "shell.execute_reply": "2023-01-04T05:55:54.468683Z"
    },
    "papermill": {
     "duration": 0.025958,
     "end_time": "2023-01-04T05:55:54.471969",
     "exception": false,
     "start_time": "2023-01-04T05:55:54.446011",
     "status": "completed"
    },
    "tags": []
   },
   "outputs": [],
   "source": [
    "#combine walk and walking\n",
    "frequency_df.loc[134,'Frequency'] += frequency_df.loc[74,'Frequency']"
   ]
  },
  {
   "cell_type": "markdown",
   "id": "aea6aca8",
   "metadata": {
    "papermill": {
     "duration": 0.015619,
     "end_time": "2023-01-04T05:55:54.503575",
     "exception": false,
     "start_time": "2023-01-04T05:55:54.487956",
     "status": "completed"
    },
    "tags": []
   },
   "source": [
    "Finally, convert the data that has a csv format to a SQLite format using SQLAlchemy."
   ]
  },
  {
   "cell_type": "code",
   "execution_count": 21,
   "id": "ffe14f7f",
   "metadata": {
    "execution": {
     "iopub.execute_input": "2023-01-04T05:55:54.537654Z",
     "iopub.status.busy": "2023-01-04T05:55:54.537129Z",
     "iopub.status.idle": "2023-01-04T05:55:54.553773Z",
     "shell.execute_reply": "2023-01-04T05:55:54.552692Z"
    },
    "papermill": {
     "duration": 0.037356,
     "end_time": "2023-01-04T05:55:54.556914",
     "exception": false,
     "start_time": "2023-01-04T05:55:54.519558",
     "status": "completed"
    },
    "tags": []
   },
   "outputs": [],
   "source": [
    "engine_df2 = create_engine('sqlite://', echo = False)\n",
    "df2.to_sql('Frequency_Data', con = engine_df2)"
   ]
  },
  {
   "cell_type": "markdown",
   "id": "60ce9f90",
   "metadata": {
    "papermill": {
     "duration": 0.015576,
     "end_time": "2023-01-04T05:55:54.588906",
     "exception": false,
     "start_time": "2023-01-04T05:55:54.573330",
     "status": "completed"
    },
    "tags": []
   },
   "source": [
    "# Exploratory Data Analysis/SQL Queries"
   ]
  },
  {
   "cell_type": "markdown",
   "id": "9b19bb6a",
   "metadata": {
    "papermill": {
     "duration": 0.016012,
     "end_time": "2023-01-04T05:55:54.620952",
     "exception": false,
     "start_time": "2023-01-04T05:55:54.604940",
     "status": "completed"
    },
    "tags": []
   },
   "source": [
    "**Unique Exercise Data**"
   ]
  },
  {
   "cell_type": "markdown",
   "id": "4273ee61",
   "metadata": {
    "papermill": {
     "duration": 0.015355,
     "end_time": "2023-01-04T05:55:54.652514",
     "exception": false,
     "start_time": "2023-01-04T05:55:54.637159",
     "status": "completed"
    },
    "tags": []
   },
   "source": [
    "In this dataset, the Num_occurrence column starts at 1. To calculate the mean number of calories burned per kg of exercise, we need to divide the calories burned per kg by the number of occurrences in the dataset. However, exercises with only one occurrence may be more susceptible to outliers. Therefore, our query should include exercises with more than one occurrence, as well as those with only one occurrence."
   ]
  },
  {
   "cell_type": "code",
   "execution_count": 22,
   "id": "0d7e97de",
   "metadata": {
    "execution": {
     "iopub.execute_input": "2023-01-04T05:55:54.687324Z",
     "iopub.status.busy": "2023-01-04T05:55:54.686870Z",
     "iopub.status.idle": "2023-01-04T05:55:54.702578Z",
     "shell.execute_reply": "2023-01-04T05:55:54.701349Z"
    },
    "papermill": {
     "duration": 0.035456,
     "end_time": "2023-01-04T05:55:54.704997",
     "exception": false,
     "start_time": "2023-01-04T05:55:54.669541",
     "status": "completed"
    },
    "tags": []
   },
   "outputs": [
    {
     "data": {
      "text/html": [
       "<div>\n",
       "<style scoped>\n",
       "    .dataframe tbody tr th:only-of-type {\n",
       "        vertical-align: middle;\n",
       "    }\n",
       "\n",
       "    .dataframe tbody tr th {\n",
       "        vertical-align: top;\n",
       "    }\n",
       "\n",
       "    .dataframe thead th {\n",
       "        text-align: right;\n",
       "    }\n",
       "</style>\n",
       "<table border=\"1\" class=\"dataframe\">\n",
       "  <thead>\n",
       "    <tr style=\"text-align: right;\">\n",
       "      <th></th>\n",
       "      <th>Unique_exercise</th>\n",
       "      <th>Mean_calories_per_kg</th>\n",
       "      <th>Num_occurrence</th>\n",
       "    </tr>\n",
       "  </thead>\n",
       "  <tbody>\n",
       "    <tr>\n",
       "      <th>0</th>\n",
       "      <td>Cycling</td>\n",
       "      <td>1.897446</td>\n",
       "      <td>7</td>\n",
       "    </tr>\n",
       "    <tr>\n",
       "      <th>1</th>\n",
       "      <td>Unicycling</td>\n",
       "      <td>1.029722</td>\n",
       "      <td>1</td>\n",
       "    </tr>\n",
       "    <tr>\n",
       "      <th>2</th>\n",
       "      <td>Stationary cycling</td>\n",
       "      <td>1.585676</td>\n",
       "      <td>5</td>\n",
       "    </tr>\n",
       "    <tr>\n",
       "      <th>3</th>\n",
       "      <td>Calisthenics</td>\n",
       "      <td>1.184417</td>\n",
       "      <td>2</td>\n",
       "    </tr>\n",
       "    <tr>\n",
       "      <th>4</th>\n",
       "      <td>Circuit training</td>\n",
       "      <td>1.647825</td>\n",
       "      <td>1</td>\n",
       "    </tr>\n",
       "  </tbody>\n",
       "</table>\n",
       "</div>"
      ],
      "text/plain": [
       "      Unique_exercise  Mean_calories_per_kg  Num_occurrence\n",
       "0             Cycling              1.897446               7\n",
       "1          Unicycling              1.029722               1\n",
       "2  Stationary cycling              1.585676               5\n",
       "3        Calisthenics              1.184417               2\n",
       "4    Circuit training              1.647825               1"
      ]
     },
     "execution_count": 22,
     "metadata": {},
     "output_type": "execute_result"
    }
   ],
   "source": [
    "pd.read_sql_query('''SELECT Unique_exercise, Mean_calories_per_kg, Num_occurrence \n",
    "                     FROM Exercise_Data LIMIT 5''', engine_df1)"
   ]
  },
  {
   "cell_type": "markdown",
   "id": "09a1f2ea",
   "metadata": {
    "papermill": {
     "duration": 0.015945,
     "end_time": "2023-01-04T05:55:54.736949",
     "exception": false,
     "start_time": "2023-01-04T05:55:54.721004",
     "status": "completed"
    },
    "tags": []
   },
   "source": [
    "**Top Performed Exercise**"
   ]
  },
  {
   "cell_type": "markdown",
   "id": "76dce60d",
   "metadata": {
    "papermill": {
     "duration": 0.015445,
     "end_time": "2023-01-04T05:55:54.768304",
     "exception": false,
     "start_time": "2023-01-04T05:55:54.752859",
     "status": "completed"
    },
    "tags": []
   },
   "source": [
    "Let's look at the exercises that were performed the most in the dataset"
   ]
  },
  {
   "cell_type": "code",
   "execution_count": 23,
   "id": "8f505733",
   "metadata": {
    "execution": {
     "iopub.execute_input": "2023-01-04T05:55:54.803835Z",
     "iopub.status.busy": "2023-01-04T05:55:54.803024Z",
     "iopub.status.idle": "2023-01-04T05:55:54.817763Z",
     "shell.execute_reply": "2023-01-04T05:55:54.816507Z"
    },
    "papermill": {
     "duration": 0.035219,
     "end_time": "2023-01-04T05:55:54.820746",
     "exception": false,
     "start_time": "2023-01-04T05:55:54.785527",
     "status": "completed"
    },
    "tags": []
   },
   "outputs": [
    {
     "data": {
      "text/html": [
       "<div>\n",
       "<style scoped>\n",
       "    .dataframe tbody tr th:only-of-type {\n",
       "        vertical-align: middle;\n",
       "    }\n",
       "\n",
       "    .dataframe tbody tr th {\n",
       "        vertical-align: top;\n",
       "    }\n",
       "\n",
       "    .dataframe thead th {\n",
       "        text-align: right;\n",
       "    }\n",
       "</style>\n",
       "<table border=\"1\" class=\"dataframe\">\n",
       "  <thead>\n",
       "    <tr style=\"text-align: right;\">\n",
       "      <th></th>\n",
       "      <th>Unique_exercise</th>\n",
       "      <th>Mean_calories_per_kg</th>\n",
       "      <th>Num_occurrence</th>\n",
       "    </tr>\n",
       "  </thead>\n",
       "  <tbody>\n",
       "    <tr>\n",
       "      <th>0</th>\n",
       "      <td>Running</td>\n",
       "      <td>2.426167</td>\n",
       "      <td>16</td>\n",
       "    </tr>\n",
       "    <tr>\n",
       "      <th>1</th>\n",
       "      <td>Walking</td>\n",
       "      <td>0.858923</td>\n",
       "      <td>14</td>\n",
       "    </tr>\n",
       "    <tr>\n",
       "      <th>2</th>\n",
       "      <td>Swimming</td>\n",
       "      <td>1.668000</td>\n",
       "      <td>10</td>\n",
       "    </tr>\n",
       "    <tr>\n",
       "      <th>3</th>\n",
       "      <td>Cycling</td>\n",
       "      <td>1.897446</td>\n",
       "      <td>7</td>\n",
       "    </tr>\n",
       "    <tr>\n",
       "      <th>4</th>\n",
       "      <td>Golf</td>\n",
       "      <td>0.782728</td>\n",
       "      <td>6</td>\n",
       "    </tr>\n",
       "    <tr>\n",
       "      <th>5</th>\n",
       "      <td>Stationary cycling</td>\n",
       "      <td>1.585676</td>\n",
       "      <td>5</td>\n",
       "    </tr>\n",
       "    <tr>\n",
       "      <th>6</th>\n",
       "      <td>Cross country skiing</td>\n",
       "      <td>2.445335</td>\n",
       "      <td>4</td>\n",
       "    </tr>\n",
       "    <tr>\n",
       "      <th>7</th>\n",
       "      <td>Climbing hills</td>\n",
       "      <td>1.621761</td>\n",
       "      <td>4</td>\n",
       "    </tr>\n",
       "    <tr>\n",
       "      <th>8</th>\n",
       "      <td>Rowing machine</td>\n",
       "      <td>1.596035</td>\n",
       "      <td>4</td>\n",
       "    </tr>\n",
       "    <tr>\n",
       "      <th>9</th>\n",
       "      <td>Aerobics</td>\n",
       "      <td>1.390056</td>\n",
       "      <td>4</td>\n",
       "    </tr>\n",
       "  </tbody>\n",
       "</table>\n",
       "</div>"
      ],
      "text/plain": [
       "        Unique_exercise  Mean_calories_per_kg  Num_occurrence\n",
       "0               Running              2.426167              16\n",
       "1               Walking              0.858923              14\n",
       "2              Swimming              1.668000              10\n",
       "3               Cycling              1.897446               7\n",
       "4                  Golf              0.782728               6\n",
       "5    Stationary cycling              1.585676               5\n",
       "6  Cross country skiing              2.445335               4\n",
       "7        Climbing hills              1.621761               4\n",
       "8        Rowing machine              1.596035               4\n",
       "9              Aerobics              1.390056               4"
      ]
     },
     "execution_count": 23,
     "metadata": {},
     "output_type": "execute_result"
    }
   ],
   "source": [
    "# sort dataframe descending order\n",
    "pd.read_sql_query('''SELECT Unique_exercise, Mean_calories_per_kg, Num_occurrence FROM Exercise_Data \n",
    "                     ORDER BY Num_occurrence DESC, Mean_calories_per_kg DESC LIMIT 10''', engine_df1)"
   ]
  },
  {
   "cell_type": "code",
   "execution_count": 24,
   "id": "9185b409",
   "metadata": {
    "execution": {
     "iopub.execute_input": "2023-01-04T05:55:54.855517Z",
     "iopub.status.busy": "2023-01-04T05:55:54.855072Z",
     "iopub.status.idle": "2023-01-04T05:55:54.863832Z",
     "shell.execute_reply": "2023-01-04T05:55:54.862866Z"
    },
    "papermill": {
     "duration": 0.029496,
     "end_time": "2023-01-04T05:55:54.866332",
     "exception": false,
     "start_time": "2023-01-04T05:55:54.836836",
     "status": "completed"
    },
    "tags": []
   },
   "outputs": [],
   "source": [
    "#top ten by  occurrence\n",
    "top_five_cal = pd.read_sql_query('''SELECT Unique_exercise, Mean_calories_per_kg, Num_occurrence FROM Exercise_Data \n",
    "                                ORDER BY Num_occurrence DESC LIMIT 10''', engine_df1)"
   ]
  },
  {
   "cell_type": "code",
   "execution_count": 25,
   "id": "dc3d658b",
   "metadata": {
    "execution": {
     "iopub.execute_input": "2023-01-04T05:55:54.901397Z",
     "iopub.status.busy": "2023-01-04T05:55:54.900258Z",
     "iopub.status.idle": "2023-01-04T05:55:55.169208Z",
     "shell.execute_reply": "2023-01-04T05:55:55.167928Z"
    },
    "papermill": {
     "duration": 0.289461,
     "end_time": "2023-01-04T05:55:55.172125",
     "exception": false,
     "start_time": "2023-01-04T05:55:54.882664",
     "status": "completed"
    },
    "tags": []
   },
   "outputs": [
    {
     "data": {
      "text/plain": [
       "Text(0, 0.5, '')"
      ]
     },
     "execution_count": 25,
     "metadata": {},
     "output_type": "execute_result"
    },
    {
     "data": {
      "image/png": "[encoded data removed]",
      "text/plain": [
       "<Figure size 432x288 with 1 Axes>"
      ]
     },
     "metadata": {
      "needs_background": "light"
     },
     "output_type": "display_data"
    }
   ],
   "source": [
    "sns.barplot(y = 'Unique_exercise', x = 'Num_occurrence', dodge = False, data = top_five_cal)\n",
    "plt.title(\"Top Performed Exercises\")\n",
    "plt.ylabel(None)"
   ]
  },
  {
   "cell_type": "markdown",
   "id": "27c22ab1",
   "metadata": {
    "papermill": {
     "duration": 0.016205,
     "end_time": "2023-01-04T05:55:55.205128",
     "exception": false,
     "start_time": "2023-01-04T05:55:55.188923",
     "status": "completed"
    },
    "tags": []
   },
   "source": [
    "Running is the highest performed exercise, followed by walking, swimming, then cycling. We could notice that these are cardiovascular exercises which is considered as one of the most efficient exercise in burning calories."
   ]
  },
  {
   "cell_type": "markdown",
   "id": "e0f351ef",
   "metadata": {
    "papermill": {
     "duration": 0.016281,
     "end_time": "2023-01-04T05:55:55.238116",
     "exception": false,
     "start_time": "2023-01-04T05:55:55.221835",
     "status": "completed"
    },
    "tags": []
   },
   "source": [
    "**Top Exercise for Burning Calories**"
   ]
  },
  {
   "cell_type": "markdown",
   "id": "077ef118",
   "metadata": {
    "papermill": {
     "duration": 0.016215,
     "end_time": "2023-01-04T05:55:55.270967",
     "exception": false,
     "start_time": "2023-01-04T05:55:55.254752",
     "status": "completed"
    },
    "tags": []
   },
   "source": [
    "To determine which exercise burns the most calories, we will need to sort the data by the number of calories burned in descending order. This will allow us to see which exercises burn the most calories at the top of the list. The next query would be about the exercise having greater than 1 occurrence in the dataset."
   ]
  },
  {
   "cell_type": "code",
   "execution_count": 26,
   "id": "7356714e",
   "metadata": {
    "execution": {
     "iopub.execute_input": "2023-01-04T05:55:55.306124Z",
     "iopub.status.busy": "2023-01-04T05:55:55.305028Z",
     "iopub.status.idle": "2023-01-04T05:55:55.312766Z",
     "shell.execute_reply": "2023-01-04T05:55:55.311850Z"
    },
    "papermill": {
     "duration": 0.027823,
     "end_time": "2023-01-04T05:55:55.315132",
     "exception": false,
     "start_time": "2023-01-04T05:55:55.287309",
     "status": "completed"
    },
    "tags": []
   },
   "outputs": [],
   "source": [
    "#top ten purely by calories burned per kg\n",
    "top_five_purecal = pd.read_sql_query('''SELECT Unique_exercise, Mean_calories_per_kg, Num_occurrence \n",
    "                                        FROM Exercise_Data WHERE Num_occurrence > 1 \n",
    "                                        ORDER BY Mean_calories_per_kg DESC LIMIT 5''', engine_df1)"
   ]
  },
  {
   "cell_type": "code",
   "execution_count": 27,
   "id": "06212c09",
   "metadata": {
    "execution": {
     "iopub.execute_input": "2023-01-04T05:55:55.350220Z",
     "iopub.status.busy": "2023-01-04T05:55:55.349517Z",
     "iopub.status.idle": "2023-01-04T05:55:55.704974Z",
     "shell.execute_reply": "2023-01-04T05:55:55.703684Z"
    },
    "papermill": {
     "duration": 0.376228,
     "end_time": "2023-01-04T05:55:55.707737",
     "exception": false,
     "start_time": "2023-01-04T05:55:55.331509",
     "status": "completed"
    },
    "tags": []
   },
   "outputs": [
    {
     "data": {
      "text/plain": [
       "Text(0, 0.5, '')"
      ]
     },
     "execution_count": 27,
     "metadata": {},
     "output_type": "execute_result"
    },
    {
     "data": {
      "image/png": "[encoded data removed]",
      "text/plain": [
       "<Figure size 432x288 with 1 Axes>"
      ]
     },
     "metadata": {
      "needs_background": "light"
     },
     "output_type": "display_data"
    }
   ],
   "source": [
    "sns.barplot(y = 'Unique_exercise', x = 'Mean_calories_per_kg', hue = 'Num_occurrence', dodge = False, data = top_five_purecal)\n",
    "plt.title(\"Top 5 Exercise for Burning Calories (>1 Occurrence)\")\n",
    "plt.legend(title=\"Frequency\")\n",
    "plt.ylabel(None)"
   ]
  },
  {
   "cell_type": "markdown",
   "id": "e1cc37ea",
   "metadata": {
    "papermill": {
     "duration": 0.016563,
     "end_time": "2023-01-04T05:55:55.741225",
     "exception": false,
     "start_time": "2023-01-04T05:55:55.724662",
     "status": "completed"
    },
    "tags": []
   },
   "source": [
    "Cross country skiing, skin diving, and running have the highest mean in terms of calories burned per kg, according to the bar graph. However, running appears 16 times in the dataset, so it is possible that the mean for running was affected by both low and high intensity running, which could skew its result."
   ]
  },
  {
   "cell_type": "code",
   "execution_count": 28,
   "id": "d3082405",
   "metadata": {
    "execution": {
     "iopub.execute_input": "2023-01-04T05:55:55.777515Z",
     "iopub.status.busy": "2023-01-04T05:55:55.776668Z",
     "iopub.status.idle": "2023-01-04T05:55:55.785035Z",
     "shell.execute_reply": "2023-01-04T05:55:55.783397Z"
    },
    "papermill": {
     "duration": 0.029221,
     "end_time": "2023-01-04T05:55:55.787523",
     "exception": false,
     "start_time": "2023-01-04T05:55:55.758302",
     "status": "completed"
    },
    "tags": []
   },
   "outputs": [],
   "source": [
    "# check top 5 of only one occurrence in exercise\n",
    "top_five_one_occurrence = pd.read_sql_query('''SELECT Unique_exercise, Mean_calories_per_kg, Num_occurrence \n",
    "                                               FROM Exercise_Data WHERE Num_occurrence = 1 \n",
    "                                               ORDER BY Mean_calories_per_kg DESC LIMIT 5''', engine_df1)"
   ]
  },
  {
   "cell_type": "code",
   "execution_count": 29,
   "id": "4e1f7733",
   "metadata": {
    "execution": {
     "iopub.execute_input": "2023-01-04T05:55:55.825584Z",
     "iopub.status.busy": "2023-01-04T05:55:55.824199Z",
     "iopub.status.idle": "2023-01-04T05:55:56.043941Z",
     "shell.execute_reply": "2023-01-04T05:55:56.042840Z"
    },
    "papermill": {
     "duration": 0.243215,
     "end_time": "2023-01-04T05:55:56.047881",
     "exception": false,
     "start_time": "2023-01-04T05:55:55.804666",
     "status": "completed"
    },
    "tags": []
   },
   "outputs": [
    {
     "data": {
      "text/plain": [
       "Text(0, 0.5, '')"
      ]
     },
     "execution_count": 29,
     "metadata": {},
     "output_type": "execute_result"
    },
    {
     "data": {
      "image/png": "[encoded data removed]",
      "text/plain": [
       "<Figure size 432x288 with 1 Axes>"
      ]
     },
     "metadata": {
      "needs_background": "light"
     },
     "output_type": "display_data"
    }
   ],
   "source": [
    "sns.barplot(y = 'Unique_exercise', x = 'Mean_calories_per_kg', data = top_five_one_occurrence)\n",
    "plt.title(\"Top 5 Exercise for Burning Calories (1 Occurrence)\")\n",
    "plt.ylabel(None)"
   ]
  },
  {
   "cell_type": "markdown",
   "id": "18869882",
   "metadata": {
    "papermill": {
     "duration": 0.01884,
     "end_time": "2023-01-04T05:55:56.085559",
     "exception": false,
     "start_time": "2023-01-04T05:55:56.066719",
     "status": "completed"
    },
    "tags": []
   },
   "source": [
    "Among the exercises that have only one occurrence in the dataset, speed skating has the highest number of calories burned per kg, followed by jai alai, roller blading, squash, and crew."
   ]
  },
  {
   "cell_type": "markdown",
   "id": "fed2ab2d",
   "metadata": {
    "papermill": {
     "duration": 0.017685,
     "end_time": "2023-01-04T05:55:56.122557",
     "exception": false,
     "start_time": "2023-01-04T05:55:56.104872",
     "status": "completed"
    },
    "tags": []
   },
   "source": [
    "**Exercise Intensity and Types Data**"
   ]
  },
  {
   "cell_type": "markdown",
   "id": "ef9d180a",
   "metadata": {
    "papermill": {
     "duration": 0.017092,
     "end_time": "2023-01-04T05:55:56.157303",
     "exception": false,
     "start_time": "2023-01-04T05:55:56.140211",
     "status": "completed"
    },
    "tags": []
   },
   "source": [
    "The next step is to examine the intensity of exercises using the \"Keyword\" column. It is important to consider the number of times each keyword appears in the dataset because it could represent the general consensus on how people exercise."
   ]
  },
  {
   "cell_type": "code",
   "execution_count": 30,
   "id": "1a6d0889",
   "metadata": {
    "execution": {
     "iopub.execute_input": "2023-01-04T05:55:56.195112Z",
     "iopub.status.busy": "2023-01-04T05:55:56.194208Z",
     "iopub.status.idle": "2023-01-04T05:55:56.209439Z",
     "shell.execute_reply": "2023-01-04T05:55:56.208203Z"
    },
    "papermill": {
     "duration": 0.03754,
     "end_time": "2023-01-04T05:55:56.212334",
     "exception": false,
     "start_time": "2023-01-04T05:55:56.174794",
     "status": "completed"
    },
    "tags": []
   },
   "outputs": [
    {
     "data": {
      "text/html": [
       "<div>\n",
       "<style scoped>\n",
       "    .dataframe tbody tr th:only-of-type {\n",
       "        vertical-align: middle;\n",
       "    }\n",
       "\n",
       "    .dataframe tbody tr th {\n",
       "        vertical-align: top;\n",
       "    }\n",
       "\n",
       "    .dataframe thead th {\n",
       "        text-align: right;\n",
       "    }\n",
       "</style>\n",
       "<table border=\"1\" class=\"dataframe\">\n",
       "  <thead>\n",
       "    <tr style=\"text-align: right;\">\n",
       "      <th></th>\n",
       "      <th>index</th>\n",
       "      <th>Keyword</th>\n",
       "      <th>Frequency</th>\n",
       "      <th>Mean_calburned</th>\n",
       "    </tr>\n",
       "  </thead>\n",
       "  <tbody>\n",
       "    <tr>\n",
       "      <th>0</th>\n",
       "      <td>8</td>\n",
       "      <td>moderate</td>\n",
       "      <td>14</td>\n",
       "      <td>1.335533</td>\n",
       "    </tr>\n",
       "    <tr>\n",
       "      <th>1</th>\n",
       "      <td>10</td>\n",
       "      <td>vigorous</td>\n",
       "      <td>12</td>\n",
       "      <td>1.776174</td>\n",
       "    </tr>\n",
       "    <tr>\n",
       "      <th>2</th>\n",
       "      <td>6</td>\n",
       "      <td>light</td>\n",
       "      <td>10</td>\n",
       "      <td>0.726830</td>\n",
       "    </tr>\n",
       "    <tr>\n",
       "      <th>3</th>\n",
       "      <td>23</td>\n",
       "      <td>general</td>\n",
       "      <td>9</td>\n",
       "      <td>0.949610</td>\n",
       "    </tr>\n",
       "    <tr>\n",
       "      <th>4</th>\n",
       "      <td>43</td>\n",
       "      <td>up</td>\n",
       "      <td>9</td>\n",
       "      <td>1.635940</td>\n",
       "    </tr>\n",
       "    <tr>\n",
       "      <th>5</th>\n",
       "      <td>47</td>\n",
       "      <td>competitive</td>\n",
       "      <td>8</td>\n",
       "      <td>1.802013</td>\n",
       "    </tr>\n",
       "    <tr>\n",
       "      <th>6</th>\n",
       "      <td>27</td>\n",
       "      <td>slow</td>\n",
       "      <td>7</td>\n",
       "      <td>0.867821</td>\n",
       "    </tr>\n",
       "    <tr>\n",
       "      <th>7</th>\n",
       "      <td>28</td>\n",
       "      <td>fast</td>\n",
       "      <td>7</td>\n",
       "      <td>1.926944</td>\n",
       "    </tr>\n",
       "    <tr>\n",
       "      <th>8</th>\n",
       "      <td>134</td>\n",
       "      <td>walk</td>\n",
       "      <td>7</td>\n",
       "      <td>0.759210</td>\n",
       "    </tr>\n",
       "    <tr>\n",
       "      <th>9</th>\n",
       "      <td>4</td>\n",
       "      <td>racing</td>\n",
       "      <td>6</td>\n",
       "      <td>1.990727</td>\n",
       "    </tr>\n",
       "  </tbody>\n",
       "</table>\n",
       "</div>"
      ],
      "text/plain": [
       "   index       Keyword  Frequency  Mean_calburned\n",
       "0      8      moderate         14        1.335533\n",
       "1     10      vigorous         12        1.776174\n",
       "2      6         light         10        0.726830\n",
       "3     23       general          9        0.949610\n",
       "4     43            up          9        1.635940\n",
       "5     47   competitive          8        1.802013\n",
       "6     27          slow          7        0.867821\n",
       "7     28          fast          7        1.926944\n",
       "8    134          walk          7        0.759210\n",
       "9      4        racing          6        1.990727"
      ]
     },
     "execution_count": 30,
     "metadata": {},
     "output_type": "execute_result"
    }
   ],
   "source": [
    "top10_freq = pd.read_sql_query('''SELECT * FROM Frequency_Data ORDER BY Frequency DESC LIMIT 10''', engine_df2)\n",
    "top10_freq"
   ]
  },
  {
   "cell_type": "code",
   "execution_count": 31,
   "id": "5590e96e",
   "metadata": {
    "execution": {
     "iopub.execute_input": "2023-01-04T05:55:56.250719Z",
     "iopub.status.busy": "2023-01-04T05:55:56.249694Z",
     "iopub.status.idle": "2023-01-04T05:55:56.498067Z",
     "shell.execute_reply": "2023-01-04T05:55:56.496740Z"
    },
    "papermill": {
     "duration": 0.270392,
     "end_time": "2023-01-04T05:55:56.500831",
     "exception": false,
     "start_time": "2023-01-04T05:55:56.230439",
     "status": "completed"
    },
    "tags": []
   },
   "outputs": [
    {
     "data": {
      "text/plain": [
       "<AxesSubplot:xlabel='Frequency', ylabel='Keyword'>"
      ]
     },
     "execution_count": 31,
     "metadata": {},
     "output_type": "execute_result"
    },
    {
     "data": {
      "image/png": "[encoded data removed]",
      "text/plain": [
       "<Figure size 432x288 with 1 Axes>"
      ]
     },
     "metadata": {
      "needs_background": "light"
     },
     "output_type": "display_data"
    }
   ],
   "source": [
    "sns.barplot(x = 'Frequency', y = 'Keyword', data = top10_freq)"
   ]
  },
  {
   "cell_type": "markdown",
   "id": "59e7b714",
   "metadata": {
    "papermill": {
     "duration": 0.017856,
     "end_time": "2023-01-04T05:55:56.537010",
     "exception": false,
     "start_time": "2023-01-04T05:55:56.519154",
     "status": "completed"
    },
    "tags": []
   },
   "source": [
    "The graph shows that the most common intensity level in the dataset is moderate, followed by vigorous and then light. This is likely because many people prefer to exercise at a moderate intensity, as it allows them to maintain good overall fitness without straining their bodies too much or performing too lightly."
   ]
  },
  {
   "cell_type": "markdown",
   "id": "f77915b1",
   "metadata": {
    "papermill": {
     "duration": 0.017822,
     "end_time": "2023-01-04T05:55:56.573104",
     "exception": false,
     "start_time": "2023-01-04T05:55:56.555282",
     "status": "completed"
    },
    "tags": []
   },
   "source": [
    "Next step is to look at the intensity or type of exercise that helps burn the most calories per kilogram."
   ]
  },
  {
   "cell_type": "code",
   "execution_count": 32,
   "id": "2309369c",
   "metadata": {
    "execution": {
     "iopub.execute_input": "2023-01-04T05:55:56.612873Z",
     "iopub.status.busy": "2023-01-04T05:55:56.611666Z",
     "iopub.status.idle": "2023-01-04T05:55:56.627073Z",
     "shell.execute_reply": "2023-01-04T05:55:56.625895Z"
    },
    "papermill": {
     "duration": 0.038269,
     "end_time": "2023-01-04T05:55:56.629661",
     "exception": false,
     "start_time": "2023-01-04T05:55:56.591392",
     "status": "completed"
    },
    "tags": []
   },
   "outputs": [
    {
     "data": {
      "text/html": [
       "<div>\n",
       "<style scoped>\n",
       "    .dataframe tbody tr th:only-of-type {\n",
       "        vertical-align: middle;\n",
       "    }\n",
       "\n",
       "    .dataframe tbody tr th {\n",
       "        vertical-align: top;\n",
       "    }\n",
       "\n",
       "    .dataframe thead th {\n",
       "        text-align: right;\n",
       "    }\n",
       "</style>\n",
       "<table border=\"1\" class=\"dataframe\">\n",
       "  <thead>\n",
       "    <tr style=\"text-align: right;\">\n",
       "      <th></th>\n",
       "      <th>index</th>\n",
       "      <th>Keyword</th>\n",
       "      <th>Frequency</th>\n",
       "      <th>Mean_calburned</th>\n",
       "    </tr>\n",
       "  </thead>\n",
       "  <tbody>\n",
       "    <tr>\n",
       "      <th>0</th>\n",
       "      <td>4</td>\n",
       "      <td>racing</td>\n",
       "      <td>6</td>\n",
       "      <td>1.990727</td>\n",
       "    </tr>\n",
       "    <tr>\n",
       "      <th>1</th>\n",
       "      <td>28</td>\n",
       "      <td>fast</td>\n",
       "      <td>7</td>\n",
       "      <td>1.926944</td>\n",
       "    </tr>\n",
       "    <tr>\n",
       "      <th>2</th>\n",
       "      <td>39</td>\n",
       "      <td>10.9 mph (5.5 min mile)</td>\n",
       "      <td>2</td>\n",
       "      <td>1.853296</td>\n",
       "    </tr>\n",
       "    <tr>\n",
       "      <th>3</th>\n",
       "      <td>47</td>\n",
       "      <td>competitive</td>\n",
       "      <td>8</td>\n",
       "      <td>1.802013</td>\n",
       "    </tr>\n",
       "    <tr>\n",
       "      <th>4</th>\n",
       "      <td>10</td>\n",
       "      <td>vigorous</td>\n",
       "      <td>12</td>\n",
       "      <td>1.776174</td>\n",
       "    </tr>\n",
       "    <tr>\n",
       "      <th>5</th>\n",
       "      <td>0</td>\n",
       "      <td>bmx</td>\n",
       "      <td>1</td>\n",
       "      <td>1.750730</td>\n",
       "    </tr>\n",
       "    <tr>\n",
       "      <th>6</th>\n",
       "      <td>1</td>\n",
       "      <td>mountain bike</td>\n",
       "      <td>1</td>\n",
       "      <td>1.750730</td>\n",
       "    </tr>\n",
       "    <tr>\n",
       "      <th>7</th>\n",
       "      <td>14</td>\n",
       "      <td>very vigorous</td>\n",
       "      <td>3</td>\n",
       "      <td>1.681901</td>\n",
       "    </tr>\n",
       "    <tr>\n",
       "      <th>8</th>\n",
       "      <td>5</td>\n",
       "      <td>&gt;20 mph</td>\n",
       "      <td>2</td>\n",
       "      <td>1.647487</td>\n",
       "    </tr>\n",
       "    <tr>\n",
       "      <th>9</th>\n",
       "      <td>38</td>\n",
       "      <td>10 mph (6 min mile)</td>\n",
       "      <td>2</td>\n",
       "      <td>1.647487</td>\n",
       "    </tr>\n",
       "  </tbody>\n",
       "</table>\n",
       "</div>"
      ],
      "text/plain": [
       "   index                   Keyword  Frequency  Mean_calburned\n",
       "0      4                    racing          6        1.990727\n",
       "1     28                      fast          7        1.926944\n",
       "2     39   10.9 mph (5.5 min mile)          2        1.853296\n",
       "3     47               competitive          8        1.802013\n",
       "4     10                  vigorous         12        1.776174\n",
       "5      0                       bmx          1        1.750730\n",
       "6      1             mountain bike          1        1.750730\n",
       "7     14             very vigorous          3        1.681901\n",
       "8      5                   >20 mph          2        1.647487\n",
       "9     38       10 mph (6 min mile)          2        1.647487"
      ]
     },
     "execution_count": 32,
     "metadata": {},
     "output_type": "execute_result"
    }
   ],
   "source": [
    "top10_calburned = pd.read_sql_query('''SELECT * FROM Frequency_Data ORDER BY Mean_calburned DESC LIMIT 10''', engine_df2)\n",
    "top10_calburned"
   ]
  },
  {
   "cell_type": "code",
   "execution_count": 33,
   "id": "2939c78c",
   "metadata": {
    "execution": {
     "iopub.execute_input": "2023-01-04T05:55:56.669129Z",
     "iopub.status.busy": "2023-01-04T05:55:56.667836Z",
     "iopub.status.idle": "2023-01-04T05:55:56.897765Z",
     "shell.execute_reply": "2023-01-04T05:55:56.896763Z"
    },
    "papermill": {
     "duration": 0.252614,
     "end_time": "2023-01-04T05:55:56.900532",
     "exception": false,
     "start_time": "2023-01-04T05:55:56.647918",
     "status": "completed"
    },
    "tags": []
   },
   "outputs": [
    {
     "data": {
      "text/plain": [
       "<AxesSubplot:xlabel='Mean_calburned', ylabel='Keyword'>"
      ]
     },
     "execution_count": 33,
     "metadata": {},
     "output_type": "execute_result"
    },
    {
     "data": {
      "image/png": "[encoded data removed]",
      "text/plain": [
       "<Figure size 432x288 with 1 Axes>"
      ]
     },
     "metadata": {
      "needs_background": "light"
     },
     "output_type": "display_data"
    }
   ],
   "source": [
    "sns.barplot(x = 'Mean_calburned', y = 'Keyword', data = top10_calburned)"
   ]
  },
  {
   "cell_type": "markdown",
   "id": "39194b75",
   "metadata": {
    "papermill": {
     "duration": 0.018463,
     "end_time": "2023-01-04T05:55:56.939214",
     "exception": false,
     "start_time": "2023-01-04T05:55:56.920751",
     "status": "completed"
    },
    "tags": []
   },
   "source": [
    "According to the graph, racing, fast, 10.9 mph (speed), and competitive activities have the highest likelihood of burning the most calories in terms of intensity. This suggests that higher intensity exercises have a greater potential to burn more calories than lower intensity exercises."
   ]
  },
  {
   "cell_type": "markdown",
   "id": "11d8673c",
   "metadata": {
    "papermill": {
     "duration": 0.018453,
     "end_time": "2023-01-04T05:55:56.976490",
     "exception": false,
     "start_time": "2023-01-04T05:55:56.958037",
     "status": "completed"
    },
    "tags": []
   },
   "source": [
    "# Conclusions"
   ]
  },
  {
   "cell_type": "markdown",
   "id": "71ba9173",
   "metadata": {
    "papermill": {
     "duration": 0.019153,
     "end_time": "2023-01-04T05:55:57.014890",
     "exception": false,
     "start_time": "2023-01-04T05:55:56.995737",
     "status": "completed"
    },
    "tags": []
   },
   "source": [
    "Based on the data analyzed, it can be concluded that: \n",
    "\n",
    "1. Cardiovascular exercises, such as running and walking, are among the most frequently performed exercises due to their efficiency in achieving physical fitness and burning calories. \n",
    "2. Despite being simple, running and walking are effective at burning calories. \n",
    "3. Moderate intensity exercises are the most popular among people seeking to improve their physical fitness. \n",
    "4. To maximize calorie-burning potential, it is advisable to engage in vigorous and heart-pumping exercises."
   ]
  }
 ],
 "metadata": {
  "kernelspec": {
   "display_name": "Python 3",
   "language": "python",
   "name": "python3"
  },
  "language_info": {
   "codemirror_mode": {
    "name": "ipython",
    "version": 3
   },
   "file_extension": ".py",
   "mimetype": "text/x-python",
   "name": "python",
   "nbconvert_exporter": "python",
   "pygments_lexer": "ipython3",
   "version": "3.7.12"
  },
  "papermill": {
   "default_parameters": {},
   "duration": 16.307595,
   "end_time": "2023-01-04T05:55:57.857785",
   "environment_variables": {},
   "exception": null,
   "input_path": "__notebook__.ipynb",
   "output_path": "__notebook__.ipynb",
   "parameters": {},
   "start_time": "2023-01-04T05:55:41.550190",
   "version": "2.3.4"
  }
 },
 "nbformat": 4,
 "nbformat_minor": 5
}
